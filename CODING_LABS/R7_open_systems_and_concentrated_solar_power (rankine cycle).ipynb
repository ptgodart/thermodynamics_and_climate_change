{
 "cells": [
  {
   "cell_type": "markdown",
   "metadata": {
    "id": "yjCTfCglXYWz"
   },
   "source": [
    "**Run the cell below before doing anything else!**"
   ]
  },
  {
   "cell_type": "code",
   "execution_count": null,
   "metadata": {
    "colab": {
     "base_uri": "https://localhost:8080/"
    },
    "executionInfo": {
     "elapsed": 6415,
     "status": "ok",
     "timestamp": 1638309587530,
     "user": {
      "displayName": "Peter Godart",
      "photoUrl": "https://lh3.googleusercontent.com/a-/AOh14GjtJRnIngG_zTIQVjl5StKXHz19AISFPQDr24tgeQ=s64",
      "userId": "02999353259464801962"
     },
     "user_tz": 300
    },
    "id": "zluPW21YWtqV",
    "outputId": "909c7e3e-facc-433a-dbab-0ba11bae2239"
   },
   "outputs": [
    {
     "name": "stdout",
     "output_type": "stream",
     "text": [
      "Collecting coolprop\n",
      "  Downloading CoolProp-6.4.1-cp37-cp37m-manylinux1_x86_64.whl (4.2 MB)\n",
      "\u001b[K     |████████████████████████████████| 4.2 MB 5.5 MB/s \n",
      "\u001b[?25hInstalling collected packages: coolprop\n",
      "Successfully installed coolprop-6.4.1\n"
     ]
    }
   ],
   "source": [
    "!pip3 install coolprop"
   ]
  },
  {
   "cell_type": "markdown",
   "metadata": {
    "id": "X5fQG4Xs6ux7"
   },
   "source": [
    "# Open Systems and Concentrated Solar Power (Rankine Cycles)"
   ]
  },
  {
   "cell_type": "markdown",
   "metadata": {
    "id": "0rjwhWyfnNZX"
   },
   "source": [
    "To successfully mitigate the climate crisis, the consumption of greenhouse gas-emitting fossil fuels must be greatly reduced. Fortuntely, in its place, we have ample solar energy at our disposal to meet the world's power needs. While photovoltaic (PV) solar panels are continually getting cheaper and more efficient, questions remain as to their scalability to meet our global energy consumption. One interesting alternative method for converting solar energy to electricity is to use the Sun's radiation to supply thermal energy to power a thermodynamic cycle that generates mechanical work. This technology, called \"Concentrated Solar Power\" (CSP), utilizes an array of mirrors to direct sunlight onto a collector atop a central tower, through which a heat transfer fluid flows, as is depicted in this image of a CSP plant in Dubai:\n",
    "\n",
    "<img src=\"https://helioscsp.com/wp-content/uploads/2019/04/Dubai-concentrated-solar-power.jpg\" height=400px></img>\n",
    "\n",
    "The heat transfer fluid, which is typically a molten nitrate salt, absorbs this thermal energy and transfers it to a separate closed-loop thermodynamic cycle that uses water as the working fluid. The cycle that is often used in this type of application is a Rankine cycle in which liquid water is pumped to high pressures, then turned to steam using an external heat source, then flowed through a turbine to generate mechanical work, and finally condensed back into liquid by transferring the remaining heat to the environment. The entire system is modeled as follows:\n",
    "\n",
    "<img src=\"https://i.imgur.com/IpQctzs.png\" width=800px></img>\n",
    "\n",
    "In this exercise, we will analyze this approach to converting solar energy to electricity and compare it to PV, as well as fossil fuels in several ways. We will focus in on the two subsystems separately to make the analysis easier."
   ]
  },
  {
   "cell_type": "markdown",
   "metadata": {
    "id": "p2576L22857V"
   },
   "source": [
    "### Rankine Cycle Subsystem\n",
    "\n",
    "We will start by analyzing the Rankine Cycle subsystem which takes in thermal energy, $\\dot{Q}_{in}$, and produces some net mechanical work $\\dot{W}_{net}$. The cycle can be depicted graphically as:\n",
    "\n",
    "<img src=\"https://i.imgur.com/FGGeYas.png\" width=600px></img>\n",
    "\n",
    "where the states are defined as follows,\n",
    "\n",
    " - $1\\rightarrow 2$: Liquid water working fluid is pumped from pressure $P_1$ to $P_2$, requiring an input of mechanical power, $\\dot{W}_{pump}$.\n",
    " - $2\\rightarrow 3$: The working fluid is flowed through a heat exchanger, vaporizing it isobarically and bringing its temperature at state 3 to $T_H$.\n",
    " - $3\\rightarrow 4$: The vapor flows through an isentropic turbine, and as it expands, the turbine spins, generating mechanical power, $\\dot{W}_{turbine}.$\n",
    " - $4\\rightarrow 1$: The working fluid is cooled back the initial temperature at $T_1$, and the cycle repeats.\n",
    "\n"
   ]
  },
  {
   "cell_type": "markdown",
   "metadata": {
    "id": "XW17WyNgyxcM"
   },
   "source": [
    "## Problem 1:\n",
    "\n",
    "For the purposes of our CSP example, we are interested in computing the efficiency of the cycle, $\\eta = \\dot{W_{net}}/\\dot{Q}_{in}$, to determine what area of solar field is required. What is $\\eta$ under the following cycle conditions?\n",
    "\n",
    "  1. $T_H = 600$ degC\n",
    "  2. $T_a = 20$ degC\n",
    "  3. $P_a = 101325$ Pa\n",
    "  4. $P_2 = P_3 = 60$ bar\n",
    "  5. $P_4 = P_1 = 0.08$ bar\n",
    "\n",
    "*Run the following code block to compute $\\eta$:*"
   ]
  },
  {
   "cell_type": "code",
   "execution_count": null,
   "metadata": {
    "colab": {
     "base_uri": "https://localhost:8080/",
     "height": 337
    },
    "executionInfo": {
     "elapsed": 1465,
     "status": "ok",
     "timestamp": 1638309588992,
     "user": {
      "displayName": "Peter Godart",
      "photoUrl": "https://lh3.googleusercontent.com/a-/AOh14GjtJRnIngG_zTIQVjl5StKXHz19AISFPQDr24tgeQ=s64",
      "userId": "02999353259464801962"
     },
     "user_tz": 300
    },
    "id": "wMpFqyCr2n1l",
    "outputId": "e12163ce-77ed-4461-8a35-a0dcc806f9ad"
   },
   "outputs": [
    {
     "data": {
      "image/png": "[encoded data removed]",
      "text/plain": [
       "<Figure size 432x288 with 1 Axes>"
      ]
     },
     "metadata": {
      "needs_background": "light"
     },
     "output_type": "display_data"
    },
    {
     "name": "stdout",
     "output_type": "stream",
     "text": [
      "Rankine first law efficiency = 0.398\n",
      "Carnot efficiency = 0.656\n",
      "Second law efficiency = 0.607\n"
     ]
    }
   ],
   "source": [
    "import CoolProp as cp\n",
    "from CoolProp.CoolProp import AbstractState\n",
    "import numpy as np\n",
    "from matplotlib import pyplot as plt\n",
    "\n",
    "Water = cp.AbstractState('HEOS', 'Water')\n",
    "\n",
    "T_dome = np.linspace(273.06, Water.T_critical()*0.99999, 250)\n",
    "s_l_dome = []\n",
    "h_l_dome = []\n",
    "s_v_dome = []\n",
    "h_v_dome = []\n",
    "for T in T_dome:\n",
    "  Water.update(cp.QT_INPUTS, 0, T)\n",
    "  s_l_dome.append(Water.smass())\n",
    "  h_l_dome.append(Water.hmass())\n",
    "  Water.update(cp.QT_INPUTS, 1, T)\n",
    "  s_v_dome.append(Water.smass())\n",
    "  h_v_dome.append(Water.hmass())\n",
    "\n",
    "# Given:\n",
    "P_1 = 0.08e5 # Pa\n",
    "P_2 = 60e5 # Pa\n",
    "P_4 = P_1 # Isobaric condensation\n",
    "T_1 = 300 # K\n",
    "T_2 = T_1 # K (Isothermal pumping)\n",
    "T_H = 600 + 273.15 # K\n",
    "T_3 = T_H # K\n",
    "\n",
    "# Simulate rankine cycle\n",
    "s_cycle = []\n",
    "u_cycle = []\n",
    "T_cycle = []\n",
    "P_cycle = []\n",
    "h_cycle = []\n",
    "# 1->2: Isothermal compression\n",
    "Water.update(cp.PT_INPUTS, P_1, T_1)\n",
    "h_1 = Water.hmass()\n",
    "u_1 = Water.umass()\n",
    "s_1 = Water.smass()\n",
    "for P in np.linspace(P_1, P_2, 250):\n",
    "  Water.update(cp.PT_INPUTS, P, T_1)\n",
    "  s_cycle.append(Water.smass())\n",
    "  u_cycle.append(Water.umass())\n",
    "  T_cycle.append(Water.T())\n",
    "  P_cycle.append(Water.p())\n",
    "  h_cycle.append(Water.hmass())\n",
    "h_2 = h_cycle[-1]\n",
    "u_2 = u_cycle[-1]\n",
    "s_2 = s_cycle[-1]\n",
    "# 2->3: Isobaric evaporation\n",
    "for T in np.linspace(T_2, T_3, 250):\n",
    "  Water.update(cp.PT_INPUTS, P_2, T)\n",
    "  s_cycle.append(Water.smass())\n",
    "  u_cycle.append(Water.umass())\n",
    "  T_cycle.append(Water.T())\n",
    "  P_cycle.append(Water.p())\n",
    "  h_cycle.append(Water.hmass())\n",
    "h_3 = h_cycle[-1]\n",
    "u_3 = u_cycle[-1]\n",
    "s_3 = s_cycle[-1]\n",
    "P_3 = P_cycle[-1]\n",
    "# 3->4: Isentropic expansion through turbine\n",
    "for P in np.linspace(P_3, P_4, 250):\n",
    "  Water.update(cp.PSmass_INPUTS, P, s_3)\n",
    "  s_cycle.append(Water.smass())\n",
    "  u_cycle.append(Water.umass())\n",
    "  T_cycle.append(Water.T())\n",
    "  P_cycle.append(Water.p())\n",
    "  h_cycle.append(Water.hmass())\n",
    "h_4 = h_cycle[-1]\n",
    "u_4 = u_cycle[-1]\n",
    "s_4 = s_cycle[-1]\n",
    "T_4 = T_cycle[-1]\n",
    "# 4->1: Isobaric condensation\n",
    "for s in np.linspace(s_4, s_1, 250):\n",
    "  Water.update(cp.PSmass_INPUTS, P_4, s)\n",
    "  s_cycle.append(Water.smass())\n",
    "  u_cycle.append(Water.umass())\n",
    "  T_cycle.append(Water.T())\n",
    "  P_cycle.append(Water.p())\n",
    "  h_cycle.append(Water.hmass())\n",
    "# END SIMULATION\n",
    "\n",
    "# Plot vapor dome\n",
    "plt.plot(s_l_dome, T_dome, '--', color='black')\n",
    "plt.plot(s_v_dome, T_dome, '--', color='black', label='Water Vapor Dome')\n",
    "# Plot cycle\n",
    "plt.plot(s_cycle, T_cycle, '-', color='tab:blue')\n",
    "plt.plot(s_1, T_1, 'o', color='red')\n",
    "plt.annotate('1', (s_1*1.05, T_1*1.05))\n",
    "plt.plot(s_2, T_2, 'o', color='red')\n",
    "plt.annotate('2', (s_2, T_2))\n",
    "plt.plot(s_3, T_3, 'o', color='red')\n",
    "plt.annotate('3', (s_3, T_3))\n",
    "plt.plot(s_4, T_4, 'o', color='red')\n",
    "plt.annotate('4', (s_4, T_4))\n",
    "#plt.plot(s_4, T_4, 'o', color='red')\n",
    "plt.legend()\n",
    "plt.xlabel('$s$ [J/kg-K]')\n",
    "plt.ylabel('$T$ [K]')\n",
    "plt.savefig('name_of_fig.png', dpi=400)\n",
    "plt.show()\n",
    "\n",
    "w_dot_net = (h_3 - h_4) + (h_1 - h_2) # W/kg\n",
    "q_dot_in = (h_3 - h_2) # W/kg\n",
    "eta_rankine = w_dot_net / q_dot_in\n",
    "eta_carnot = 1 - T_1 / T_H\n",
    "\n",
    "print(f'Rankine first law efficiency = {eta_rankine:0.3g}')\n",
    "print(f'Carnot efficiency = {eta_carnot:0.3g}')\n",
    "print(f'Second law efficiency = {eta_rankine / eta_carnot:0.3g}') # <- how high can you get this changing P_2, T_H, T_1?"
   ]
  },
  {
   "cell_type": "markdown",
   "metadata": {
    "id": "MO68JUojtHBX"
   },
   "source": [
    "## Problem 2:\n",
    "\n",
    "Given the value for $\\eta$ computed in Problem 1, what is the total heliostat area required for the target power output of 10 MW at peak solar irradiance (i.e. 1000 W/m^2)? Assume 100\\% electricity conversion efficiency."
   ]
  },
  {
   "cell_type": "code",
   "execution_count": null,
   "metadata": {
    "colab": {
     "base_uri": "https://localhost:8080/"
    },
    "executionInfo": {
     "elapsed": 11,
     "status": "ok",
     "timestamp": 1638309588992,
     "user": {
      "displayName": "Peter Godart",
      "photoUrl": "https://lh3.googleusercontent.com/a-/AOh14GjtJRnIngG_zTIQVjl5StKXHz19AISFPQDr24tgeQ=s64",
      "userId": "02999353259464801962"
     },
     "user_tz": 300
    },
    "id": "dtiZZrOaeVqO",
    "outputId": "cfbd3fa1-e708-46f1-b4d6-13bf29ec5c79"
   },
   "outputs": [
    {
     "name": "stdout",
     "output_type": "stream",
     "text": [
      "At eta_rankine=0.398, need 25.1 MW of thermal energy.\n",
      "Requires 0.025 km^2 of heliostats.\n"
     ]
    }
   ],
   "source": [
    "P_output = 10e6 # W\n",
    "q_dot_solar = 1000 # W/m^2\n",
    "Q_dot_solar = P_output / eta_rankine\n",
    "A_solar_field = Q_dot_solar / q_dot_solar\n",
    "print(f'At eta_rankine={eta_rankine:.3g}, need {Q_dot_solar*1e-6:.3g} MW of thermal energy.')\n",
    "print(f'Requires {A_solar_field*1e-6:0.2g} km^2 of heliostats.')"
   ]
  },
  {
   "cell_type": "markdown",
   "metadata": {
    "id": "AwTHSxs99NY5"
   },
   "source": [
    "## Solar Collection Subsystem\n",
    "\n",
    "With a sense for how much solar area is required for achieving the desired power output, we can now compute the flow rates necessary for the molten salt heat transfer fluid. We can model this subsystem as follows:\n",
    "\n",
    "<img src=\"https://i.imgur.com/xAwJCL6.png\" width=600px></img>\n",
    "\n"
   ]
  },
  {
   "cell_type": "markdown",
   "metadata": {
    "id": "WkX7_UP3syEY"
   },
   "source": [
    "## Problem 3:\n",
    "\n",
    "What is the flow rate of molten nitrate salt required to achieve a target output temperature of 600 degC at peak solar irradiance? Assume the following:\n",
    "\n",
    " 1. Ambient temperature, $T_a=$ 300 K\n",
    " 2. $T_L = 300$ degC\n",
    " 3. $h_{conv} = 25$ W/m^2-K\n",
    " 4. $h_{rad} = 50$ W/m^2-K\n",
    "\n",
    " *Run the following code block:*"
   ]
  },
  {
   "cell_type": "code",
   "execution_count": null,
   "metadata": {
    "colab": {
     "base_uri": "https://localhost:8080/"
    },
    "executionInfo": {
     "elapsed": 10,
     "status": "ok",
     "timestamp": 1638309588993,
     "user": {
      "displayName": "Peter Godart",
      "photoUrl": "https://lh3.googleusercontent.com/a-/AOh14GjtJRnIngG_zTIQVjl5StKXHz19AISFPQDr24tgeQ=s64",
      "userId": "02999353259464801962"
     },
     "user_tz": 300
    },
    "id": "BPHcTzZXfXGY",
    "outputId": "c80ee4bd-f965-45ba-ccfe-22d7eeaba3f4"
   },
   "outputs": [
    {
     "name": "stdout",
     "output_type": "stream",
     "text": [
      "A flow rate of 53.6 kg/s is required.\n"
     ]
    }
   ],
   "source": [
    "MoltenSalt = AbstractState('INCOMP', 'NaK')\n",
    "MoltenSalt.update(cp.PT_INPUTS, 101325, 600)\n",
    "P_a = 101325 # Pa\n",
    "T_a = 300 + 273.15 # K\n",
    "T_in = T_a\n",
    "h_conv = 25 # W/m^2-K\n",
    "h_rad = 50 # W/m^2-K\n",
    "A_collector = 30 # m^2\n",
    "sigma = 5.67e-8 # W/m^2-K^4\n",
    "MoltenSalt.update(cp.PT_INPUTS, P_a, T_a)\n",
    "h_in = MoltenSalt.hmass()\n",
    "# First Law: d/dt(E_cv) = 0 = d/dt(Q_in) - d/dt(Q_out) - d/dt(W_shaft_net) + m_dot*(h_in - h_out)\n",
    "T_out = 600 + 273.15 # K\n",
    "MoltenSalt.update(cp.PT_INPUTS, P_a, T_out)\n",
    "h_out = MoltenSalt.hmass()\n",
    "m_dot = -(Q_dot_solar - A_collector*(h_conv + h_rad)*(T_out - T_a)) / (h_in - h_out)\n",
    "print(f'A flow rate of {m_dot:.3g} kg/s is required.')"
   ]
  },
  {
   "cell_type": "markdown",
   "metadata": {
    "id": "kkkyHh81NYco"
   },
   "source": [
    "## Problem 4:\n",
    "\n",
    "How much CO$_2$ is offset per year by running CSP compared to methane (CH$_4$) combustion? Assume CH$_4$ combustion has a carbon intensity of 60 g CO$_2$/MJ thermal and that the plant generates power 50\\% of the time (0.5 capacity factor). *hint: use the efficiency you compute for the Rankine Cycle above assuming same conditions otherwise.*\n"
   ]
  },
  {
   "cell_type": "code",
   "execution_count": null,
   "metadata": {
    "colab": {
     "base_uri": "https://localhost:8080/"
    },
    "executionInfo": {
     "elapsed": 8,
     "status": "ok",
     "timestamp": 1638309588993,
     "user": {
      "displayName": "Peter Godart",
      "photoUrl": "https://lh3.googleusercontent.com/a-/AOh14GjtJRnIngG_zTIQVjl5StKXHz19AISFPQDr24tgeQ=s64",
      "userId": "02999353259464801962"
     },
     "user_tz": 300
    },
    "id": "pGtEHSWWEwtx",
    "outputId": "b514d30f-280a-4717-f229-43ae4a57b222"
   },
   "outputs": [
    {
     "name": "stdout",
     "output_type": "stream",
     "text": [
      "Total CO2 avoided each year: 9.47 kt CO2\n"
     ]
    }
   ],
   "source": [
    "I_CH4 = 60e-3/1e6 # kg/J\n",
    "capacity_factor = 0.5\n",
    "seconds_per_year = 31556926 # s\n",
    "E_total = P_output * capacity_factor * seconds_per_year # J\n",
    "m_co2_emissions = I_CH4 * E_total # kg\n",
    "\n",
    "print(f'Total CO2 avoided each year: {m_co2_emissions*1e-6:.3g} kt CO2')"
   ]
  },
  {
   "cell_type": "markdown",
   "metadata": {
    "id": "-VCfIqJzNI6X"
   },
   "source": [
    "## Problem 5:\n",
    "\n",
    "How does the area required for this solar field compare to that required of a conventional PV solar field? Assuming the solar panels have an efficiency of 20\\% and the same peak solar irradiance. Briefly comment on the advantages and drawbacks of CSP over PV."
   ]
  },
  {
   "cell_type": "code",
   "execution_count": null,
   "metadata": {
    "colab": {
     "base_uri": "https://localhost:8080/"
    },
    "executionInfo": {
     "elapsed": 6,
     "status": "ok",
     "timestamp": 1638309588993,
     "user": {
      "displayName": "Peter Godart",
      "photoUrl": "https://lh3.googleusercontent.com/a-/AOh14GjtJRnIngG_zTIQVjl5StKXHz19AISFPQDr24tgeQ=s64",
      "userId": "02999353259464801962"
     },
     "user_tz": 300
    },
    "id": "Jzdjt9OKGJE7",
    "outputId": "bcfe0780-b799-4132-b6d7-bcdab1e30332"
   },
   "outputs": [
    {
     "name": "stdout",
     "output_type": "stream",
     "text": [
      "0.05 km^2 PV panels is required (1.99x greater than CSP)\n"
     ]
    }
   ],
   "source": [
    "eta_pv = 0.2\n",
    "A_pv = P_output / q_dot_solar / eta_pv\n",
    "print(f'{A_pv*1e-6:0.2g} km^2 PV panels is required ({A_pv/A_solar_field:0.3g}x greater than CSP)')"
   ]
  }
 ],
 "metadata": {
  "colab": {
   "authorship_tag": "ABX9TyNnGXByu6uWfO7OWpTuVwAd",
   "provenance": []
  },
  "kernelspec": {
   "display_name": "Python 3 (ipykernel)",
   "language": "python",
   "name": "python3"
  },
  "language_info": {
   "codemirror_mode": {
    "name": "ipython",
    "version": 3
   },
   "file_extension": ".py",
   "mimetype": "text/x-python",
   "name": "python",
   "nbconvert_exporter": "python",
   "pygments_lexer": "ipython3",
   "version": "3.9.15"
  }
 },
 "nbformat": 4,
 "nbformat_minor": 4
}
